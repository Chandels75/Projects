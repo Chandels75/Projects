{
 "cells": [
  {
   "cell_type": "code",
   "execution_count": 1,
   "id": "e4bd4ad4",
   "metadata": {},
   "outputs": [
    {
     "data": {
      "text/html": [
       "        <script type=\"text/javascript\">\n",
       "        window.PlotlyConfig = {MathJaxConfig: 'local'};\n",
       "        if (window.MathJax && window.MathJax.Hub && window.MathJax.Hub.Config) {window.MathJax.Hub.Config({SVG: {font: \"STIX-Web\"}});}\n",
       "        if (typeof require !== 'undefined') {\n",
       "        require.undef(\"plotly\");\n",
       "        requirejs.config({\n",
       "            paths: {\n",
       "                'plotly': ['https://cdn.plot.ly/plotly-2.12.1.min']\n",
       "            }\n",
       "        });\n",
       "        require(['plotly'], function(Plotly) {\n",
       "            window._Plotly = Plotly;\n",
       "        });\n",
       "        }\n",
       "        </script>\n",
       "        "
      ]
     },
     "metadata": {},
     "output_type": "display_data"
    }
   ],
   "source": [
    "import dtale as dt\n",
    "from sklearn.linear_model import LinearRegression,LogisticRegression,LogisticRegressionCV,ElasticNetCV,PassiveAggressiveRegressor\n",
    "import numpy as np\n",
    "import pandas as pd\n",
    "import seaborn as sns\n",
    "import matplotlib.pyplot as plt\n",
    "%matplotlib inline\n",
    "\n",
    "#Plotly Graphing Libraries\n",
    "from plotly.offline import init_notebook_mode, iplot\n",
    "import cufflinks\n",
    "cufflinks.go_offline()\n",
    "cufflinks.set_config_file(world_readable=True, theme='pearl')\n",
    "import plotly.graph_objs as go\n",
    "import plotly\n",
    "import plotly.express as px\n",
    "\n",
    "## Machine Learning Libaries\n",
    "from sklearn import svm,metrics,tree,preprocessing,linear_model\n",
    "from sklearn.preprocessing import MinMaxScaler,StandardScaler\n",
    "import tensorflow as tf\n",
    "import keras\n",
    "from sklearn.model_selection import train_test_split,cross_val_score, cross_val_predict\n",
    "from sklearn import svm,metrics,tree,preprocessing,linear_model\n",
    "from sklearn.preprocessing import MinMaxScaler,StandardScaler\n",
    "import statsmodels.api as sm\n",
    "from sklearn.metrics import accuracy_score,mean_squared_error,recall_score,confusion_matrix,f1_score,roc_curve, auc\n",
    "from keras import Sequential\n",
    "from keras.layers import Dense, Activation\n",
    "from keras.callbacks import CSVLogger\n",
    "from sklearn.neural_network import MLPClassifier\n",
    "from dmba import classificationSummary"
   ]
  },
  {
   "cell_type": "markdown",
   "id": "a32c3f3c",
   "metadata": {},
   "source": [
    "##### Pandas does not have an auto EDA (Exploratory Data Analysis) function built-in by default. However, there are third-party libraries available that provide auto EDA capabilities on top of Pandas data frames.One popular library for auto EDA in Python is pandas-profiling. pandas-profiling generates a detailed report that includes descriptive statistics, correlation, missing values, data types, and data distributions, among other things. It is easy to use and highly customizable.To use dtale, you first need to install it. You can do this using pip, the Python package installer, by running the following command in your terminal:"
   ]
  },
  {
   "cell_type": "code",
   "execution_count": 2,
   "id": "7be8190c",
   "metadata": {},
   "outputs": [],
   "source": [
    "data=pd.read_csv(r\"C:\\Users\\sourabh.chandel\\Downloads\\London_Crime.csv\")"
   ]
  },
  {
   "cell_type": "markdown",
   "id": "5964d1e1",
   "metadata": {},
   "source": [
    "###### Once you have installed dtale, you can generate a report by calling on your Pandas data frame. For example:"
   ]
  },
  {
   "cell_type": "code",
   "execution_count": 7,
   "id": "fd3c90e6",
   "metadata": {},
   "outputs": [
    {
     "data": {
      "text/html": [
       "\n",
       "        <iframe\n",
       "            width=\"100%\"\n",
       "            height=\"475\"\n",
       "            src=\"http://GLP-415:40000/dtale/iframe/1\"\n",
       "            frameborder=\"0\"\n",
       "            allowfullscreen\n",
       "            \n",
       "        ></iframe>\n",
       "        "
      ],
      "text/plain": [
       "<IPython.lib.display.IFrame at 0x1410707bbb0>"
      ]
     },
     "metadata": {},
     "output_type": "display_data"
    },
    {
     "data": {
      "text/plain": []
     },
     "execution_count": 7,
     "metadata": {},
     "output_type": "execute_result"
    },
    {
     "name": "stdout",
     "output_type": "stream",
     "text": [
      "Exception on /dtale/charts/_dash-update-component [POST]\n",
      "Traceback (most recent call last):\n",
      "  File \"C:\\Users\\sourabh.chandel\\Anaconda3\\lib\\site-packages\\flask\\app.py\", line 2447, in wsgi_app\n",
      "    response = self.full_dispatch_request()\n",
      "  File \"C:\\Users\\sourabh.chandel\\Anaconda3\\lib\\site-packages\\flask\\app.py\", line 1952, in full_dispatch_request\n",
      "    rv = self.handle_user_exception(e)\n",
      "  File \"C:\\Users\\sourabh.chandel\\Anaconda3\\lib\\site-packages\\flask\\app.py\", line 1821, in handle_user_exception\n",
      "    reraise(exc_type, exc_value, tb)\n",
      "  File \"C:\\Users\\sourabh.chandel\\Anaconda3\\lib\\site-packages\\flask\\_compat.py\", line 39, in reraise\n",
      "    raise value\n",
      "  File \"C:\\Users\\sourabh.chandel\\Anaconda3\\lib\\site-packages\\flask\\app.py\", line 1950, in full_dispatch_request\n",
      "    rv = self.dispatch_request()\n",
      "  File \"C:\\Users\\sourabh.chandel\\Anaconda3\\lib\\site-packages\\flask\\app.py\", line 1936, in dispatch_request\n",
      "    return self.view_functions[rule.endpoint](**req.view_args)\n",
      "  File \"C:\\Users\\sourabh.chandel\\Anaconda3\\lib\\site-packages\\dash\\dash.py\", line 1273, in dispatch\n",
      "    ctx.run(\n",
      "  File \"C:\\Users\\sourabh.chandel\\Anaconda3\\lib\\site-packages\\dash\\_callback.py\", line 440, in add_context\n",
      "    output_value = func(*func_args, **func_kwargs)  # %% callback invoked %%\n",
      "  File \"C:\\Users\\sourabh.chandel\\Anaconda3\\lib\\site-packages\\dtale\\dash_application\\views.py\", line 1287, in group_values\n",
      "    group_vals = build_group_val_options(group_vals, group_cols)\n",
      "  File \"C:\\Users\\sourabh.chandel\\Anaconda3\\lib\\site-packages\\dtale\\dash_application\\layout\\layout.py\", line 1259, in build_group_val_options\n",
      "    group_vals = find_group_vals(df, group_cols)\n",
      "  File \"C:\\Users\\sourabh.chandel\\Anaconda3\\lib\\site-packages\\dtale\\charts\\utils.py\", line 1015, in find_group_vals\n",
      "    group_vals, _ = retrieve_chart_data(df, group_cols)\n",
      "  File \"C:\\Users\\sourabh.chandel\\Anaconda3\\lib\\site-packages\\dtale\\charts\\utils.py\", line 347, in retrieve_chart_data\n",
      "    all_data = pd.concat(all_data, axis=1)\n",
      "  File \"C:\\Users\\sourabh.chandel\\Anaconda3\\lib\\site-packages\\pandas\\util\\_decorators.py\", line 311, in wrapper\n",
      "    return func(*args, **kwargs)\n",
      "  File \"C:\\Users\\sourabh.chandel\\Anaconda3\\lib\\site-packages\\pandas\\core\\reshape\\concat.py\", line 347, in concat\n",
      "    op = _Concatenator(\n",
      "  File \"C:\\Users\\sourabh.chandel\\Anaconda3\\lib\\site-packages\\pandas\\core\\reshape\\concat.py\", line 404, in __init__\n",
      "    raise ValueError(\"No objects to concatenate\")\n",
      "ValueError: No objects to concatenate\n"
     ]
    },
    {
     "name": "stderr",
     "output_type": "stream",
     "text": [
      "2023-02-20 15:24:39,547 - ERROR    - Exception on /dtale/charts/_dash-update-component [POST]\n",
      "Traceback (most recent call last):\n",
      "  File \"C:\\Users\\sourabh.chandel\\Anaconda3\\lib\\site-packages\\flask\\app.py\", line 2447, in wsgi_app\n",
      "    response = self.full_dispatch_request()\n",
      "  File \"C:\\Users\\sourabh.chandel\\Anaconda3\\lib\\site-packages\\flask\\app.py\", line 1952, in full_dispatch_request\n",
      "    rv = self.handle_user_exception(e)\n",
      "  File \"C:\\Users\\sourabh.chandel\\Anaconda3\\lib\\site-packages\\flask\\app.py\", line 1821, in handle_user_exception\n",
      "    reraise(exc_type, exc_value, tb)\n",
      "  File \"C:\\Users\\sourabh.chandel\\Anaconda3\\lib\\site-packages\\flask\\_compat.py\", line 39, in reraise\n",
      "    raise value\n",
      "  File \"C:\\Users\\sourabh.chandel\\Anaconda3\\lib\\site-packages\\flask\\app.py\", line 1950, in full_dispatch_request\n",
      "    rv = self.dispatch_request()\n",
      "  File \"C:\\Users\\sourabh.chandel\\Anaconda3\\lib\\site-packages\\flask\\app.py\", line 1936, in dispatch_request\n",
      "    return self.view_functions[rule.endpoint](**req.view_args)\n",
      "  File \"C:\\Users\\sourabh.chandel\\Anaconda3\\lib\\site-packages\\dash\\dash.py\", line 1273, in dispatch\n",
      "    ctx.run(\n",
      "  File \"C:\\Users\\sourabh.chandel\\Anaconda3\\lib\\site-packages\\dash\\_callback.py\", line 440, in add_context\n",
      "    output_value = func(*func_args, **func_kwargs)  # %% callback invoked %%\n",
      "  File \"C:\\Users\\sourabh.chandel\\Anaconda3\\lib\\site-packages\\dtale\\dash_application\\views.py\", line 1287, in group_values\n",
      "    group_vals = build_group_val_options(group_vals, group_cols)\n",
      "  File \"C:\\Users\\sourabh.chandel\\Anaconda3\\lib\\site-packages\\dtale\\dash_application\\layout\\layout.py\", line 1259, in build_group_val_options\n",
      "    group_vals = find_group_vals(df, group_cols)\n",
      "  File \"C:\\Users\\sourabh.chandel\\Anaconda3\\lib\\site-packages\\dtale\\charts\\utils.py\", line 1015, in find_group_vals\n",
      "    group_vals, _ = retrieve_chart_data(df, group_cols)\n",
      "  File \"C:\\Users\\sourabh.chandel\\Anaconda3\\lib\\site-packages\\dtale\\charts\\utils.py\", line 347, in retrieve_chart_data\n",
      "    all_data = pd.concat(all_data, axis=1)\n",
      "  File \"C:\\Users\\sourabh.chandel\\Anaconda3\\lib\\site-packages\\pandas\\util\\_decorators.py\", line 311, in wrapper\n",
      "    return func(*args, **kwargs)\n",
      "  File \"C:\\Users\\sourabh.chandel\\Anaconda3\\lib\\site-packages\\pandas\\core\\reshape\\concat.py\", line 347, in concat\n",
      "    op = _Concatenator(\n",
      "  File \"C:\\Users\\sourabh.chandel\\Anaconda3\\lib\\site-packages\\pandas\\core\\reshape\\concat.py\", line 404, in __init__\n",
      "    raise ValueError(\"No objects to concatenate\")\n",
      "ValueError: No objects to concatenate\n"
     ]
    }
   ],
   "source": [
    "import pandas as pd\n",
    "import pandas_profiling\n",
    "import ydata_profiling\n",
    "dt.show(data)"
   ]
  },
  {
   "cell_type": "markdown",
   "id": "85412005",
   "metadata": {},
   "source": [
    "##### This will generate a summary data however can be use in for charts and other purpose of EDA in new tab"
   ]
  },
  {
   "cell_type": "code",
   "execution_count": null,
   "id": "46e4fb24",
   "metadata": {},
   "outputs": [],
   "source": []
  }
 ],
 "metadata": {
  "kernelspec": {
   "display_name": "Python 3 (ipykernel)",
   "language": "python",
   "name": "python3"
  },
  "language_info": {
   "codemirror_mode": {
    "name": "ipython",
    "version": 3
   },
   "file_extension": ".py",
   "mimetype": "text/x-python",
   "name": "python",
   "nbconvert_exporter": "python",
   "pygments_lexer": "ipython3",
   "version": "3.9.13"
  }
 },
 "nbformat": 4,
 "nbformat_minor": 5
}
